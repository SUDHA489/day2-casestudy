{
 "cells": [
  {
   "cell_type": "code",
   "execution_count": 0,
   "metadata": {
    "application/vnd.databricks.v1+cell": {
     "cellMetadata": {
      "byteLimit": 2048000,
      "rowLimit": 10000
     },
     "inputWidgets": {},
     "nuid": "df1e3881-394b-4f5f-a735-b09cff8aa709",
     "showTitle": false,
     "tableResultSettingsMap": {},
     "title": ""
    }
   },
   "outputs": [
    {
     "output_type": "stream",
     "name": "stdout",
     "output_type": "stream",
     "text": [
      "this is a testing code for notebook\n"
     ]
    }
   ],
   "source": [
    "print(\"this is a testing code for notebook\")"
   ]
  },
  {
   "cell_type": "code",
   "execution_count": 0,
   "metadata": {
    "application/vnd.databricks.v1+cell": {
     "cellMetadata": {
      "byteLimit": 2048000,
      "rowLimit": 10000
     },
     "inputWidgets": {},
     "nuid": "b5ee5b93-c370-4688-81dc-e940b647bd3b",
     "showTitle": false,
     "tableResultSettingsMap": {},
     "title": ""
    }
   },
   "outputs": [
    {
     "output_type": "stream",
     "name": "stdout",
     "output_type": "stream",
     "text": [
      "Collecting pydeequ\n  Downloading pydeequ-1.5.0-py3-none-any.whl.metadata (9.7 kB)\nRequirement already satisfied: numpy>=1.14.1 in /databricks/python3/lib/python3.12/site-packages (from pydeequ) (1.26.4)\nRequirement already satisfied: pandas>=0.23.0 in /databricks/python3/lib/python3.12/site-packages (from pydeequ) (1.5.3)\nRequirement already satisfied: python-dateutil>=2.8.1 in /databricks/python3/lib/python3.12/site-packages (from pandas>=0.23.0->pydeequ) (2.9.0.post0)\nRequirement already satisfied: pytz>=2020.1 in /databricks/python3/lib/python3.12/site-packages (from pandas>=0.23.0->pydeequ) (2024.1)\nRequirement already satisfied: six>=1.5 in /usr/lib/python3/dist-packages (from python-dateutil>=2.8.1->pandas>=0.23.0->pydeequ) (1.16.0)\nDownloading pydeequ-1.5.0-py3-none-any.whl (37 kB)\nInstalling collected packages: pydeequ\nSuccessfully installed pydeequ-1.5.0\n\u001B[43mNote: you may need to restart the kernel using %restart_python or dbutils.library.restartPython() to use updated packages.\u001B[0m\n"
     ]
    }
   ],
   "source": [
    "%pip install pydeequ"
   ]
  },
  {
   "cell_type": "code",
   "execution_count": 0,
   "metadata": {
    "application/vnd.databricks.v1+cell": {
     "cellMetadata": {
      "byteLimit": 2048000,
      "rowLimit": 10000
     },
     "inputWidgets": {},
     "nuid": "778e0653-deb7-4071-8b5d-2496ae3282e1",
     "showTitle": false,
     "tableResultSettingsMap": {},
     "title": ""
    }
   },
   "outputs": [],
   "source": [
    "%restart_python"
   ]
  },
  {
   "cell_type": "code",
   "execution_count": 0,
   "metadata": {
    "application/vnd.databricks.v1+cell": {
     "cellMetadata": {
      "byteLimit": 2048000,
      "rowLimit": 10000
     },
     "inputWidgets": {},
     "nuid": "172e7623-9465-4352-abb7-df68af4cb99d",
     "showTitle": false,
     "tableResultSettingsMap": {},
     "title": ""
    }
   },
   "outputs": [],
   "source": [
    "import os\n",
    "os.environ[\"SPARK_VERSION\"] = \"3.5\""
   ]
  },
  {
   "cell_type": "code",
   "execution_count": 0,
   "metadata": {
    "application/vnd.databricks.v1+cell": {
     "cellMetadata": {
      "byteLimit": 2048000,
      "rowLimit": 10000
     },
     "inputWidgets": {},
     "nuid": "f74e6793-92a8-4a64-b2fc-0ceb0c301379",
     "showTitle": false,
     "tableResultSettingsMap": {},
     "title": ""
    }
   },
   "outputs": [
    {
     "output_type": "stream",
     "name": "stdout",
     "output_type": "stream",
     "text": [
      "+-------------------+-----------+------------+----------------------------------------------------------------------------------------------------------------------------+-----------------+------------------+\n|check              |check_level|check_status|constraint                                                                                                                  |constraint_status|constraint_message|\n+-------------------+-----------+------------+----------------------------------------------------------------------------------------------------------------------------+-----------------+------------------+\n|Data quality checks|Error      |Success     |ComplianceConstraint(Compliance(sales_amount is non-negative,COALESCE(CAST(sales_amount AS DECIMAL(20,10)), 0.0) >= 0,None))|Success          |                  |\n+-------------------+-----------+------------+----------------------------------------------------------------------------------------------------------------------------+-----------------+------------------+\n\nVerification status: Success\n"
     ]
    },
    {
     "output_type": "stream",
     "name": "stderr",
     "output_type": "stream",
     "text": [
      "/databricks/spark/python/pyspark/sql/dataframe.py:163: UserWarning: DataFrame constructor is internal. Do not directly use it.\n  warnings.warn(\"DataFrame constructor is internal. Do not directly use it.\")\n"
     ]
    }
   ],
   "source": [
    "from pyspark.sql import SparkSession\n",
    "from pydeequ.checks import Check, CheckLevel\n",
    "from pydeequ.verification import VerificationSuite, VerificationResult\n",
    "\n",
    "# SparkSession is already available as `spark` in Databricks\n",
    "\n",
    "# Sample data\n",
    "data = spark.createDataFrame([\n",
    "    (1, 100),\n",
    "    (2, 200),\n",
    "    (3, 300),\n",
    "    (4, None)\n",
    "], [\"transaction_id\", \"sales_amount\"])\n",
    "\n",
    "# Define checks\n",
    "check = Check(spark, CheckLevel.Error, \"Data quality checks\") \\\n",
    "    .isNonNegative(\"sales_amount\")\n",
    "\n",
    "# Run verification\n",
    "result = VerificationSuite(spark).onData(data).addCheck(check).run()\n",
    "\n",
    "# Convert results to DataFrame\n",
    "result_df = VerificationResult.checkResultsAsDataFrame(spark, result)\n",
    "result_df.show(truncate=False)\n",
    "\n",
    "# Overall status\n",
    "print(\"Verification status:\", result.status)\n"
   ]
  },
  {
   "cell_type": "code",
   "execution_count": 0,
   "metadata": {
    "application/vnd.databricks.v1+cell": {
     "cellMetadata": {
      "byteLimit": 2048000,
      "rowLimit": 10000
     },
     "inputWidgets": {},
     "nuid": "13955820-8af0-4e50-a062-1a3980ad75d5",
     "showTitle": false,
     "tableResultSettingsMap": {},
     "title": ""
    }
   },
   "outputs": [
    {
     "output_type": "stream",
     "name": "stderr",
     "output_type": "stream",
     "text": [
      "/databricks/spark/python/pyspark/sql/dataframe.py:163: UserWarning: DataFrame constructor is internal. Do not directly use it.\n  warnings.warn(\"DataFrame constructor is internal. Do not directly use it.\")\n"
     ]
    },
    {
     "output_type": "stream",
     "name": "stdout",
     "output_type": "stream",
     "text": [
      "Deequ checks failed.\n"
     ]
    }
   ],
   "source": [
    "from pydeequ.checks import Check, CheckLevel\n",
    "from pydeequ.verification import VerificationSuite\n",
    "from pyspark.sql import SparkSession\n",
    "import uuid\n",
    "\n",
    "# Spark session (already available in Databricks)\n",
    "spark = SparkSession.builder.appName(\"DataQualityChecks\").getOrCreate()\n",
    "\n",
    "# Load sample data with schema inference\n",
    "# data = spark.read.format(\"csv\") \\\n",
    "#     .option(\"header\", \"true\") \\\n",
    "#     .option(\"inferSchema\", \"true\") \\\n",
    "#     .load(\"dbfs:/FileStore/shared_uploads/traininguser8@sudosu.ai/sample_sales_data-1.csv\")\n",
    "\n",
    "data = spark.table(\"hive_metastore.default.sample_sales_data\")\n",
    "\n",
    "# Define quality rules\n",
    "check = Check(spark, CheckLevel.Error, \"Data quality checks\") \\\n",
    "    .hasSize(lambda x: x >= 100) \\\n",
    "    .isNonNegative(\"sales_amount\")\n",
    "\n",
    "# Run verification\n",
    "result = VerificationSuite(spark) \\\n",
    "    .onData(data) \\\n",
    "    .addCheck(check) \\\n",
    "    .run()\n",
    "\n",
    "result_df = VerificationResult.checkResultsAsDataFrame(spark, result)\n",
    "\n",
    "unique_id = str(uuid.uuid4())\n",
    "result_df.write.mode(\"overwrite\").json(f\"dbfs:/FileStore/deequ_report_{unique_id}\")\n",
    "\n",
    "# Stop job if failed\n",
    "if result.status != \"Success\":\n",
    "    print(\"Deequ checks failed.\")\n",
    "else:\n",
    "    print(\"Deequ checks passed\")\n"
   ]
  },
  {
   "cell_type": "code",
   "execution_count": 0,
   "metadata": {
    "application/vnd.databricks.v1+cell": {
     "cellMetadata": {
      "byteLimit": 2048000,
      "rowLimit": 10000
     },
     "inputWidgets": {},
     "nuid": "a57a34f8-c41c-4111-8cde-cca25a7696a7",
     "showTitle": false,
     "tableResultSettingsMap": {},
     "title": ""
    }
   },
   "outputs": [
    {
     "output_type": "stream",
     "name": "stdout",
     "output_type": "stream",
     "text": [
      "+-------------------+-----------+------------+----------------------------------------------------------------------------------------------------------------------------+---------------------------------------------------+-----------------+\n|check              |check_level|check_status|constraint                                                                                                                  |constraint_message                                 |constraint_status|\n+-------------------+-----------+------------+----------------------------------------------------------------------------------------------------------------------------+---------------------------------------------------+-----------------+\n|Data quality checks|Error      |Error       |ComplianceConstraint(Compliance(sales_amount is non-negative,COALESCE(CAST(sales_amount AS DECIMAL(20,10)), 0.0) >= 0,None))|                                                   |Success          |\n|Data quality checks|Error      |Error       |SizeConstraint(Size(None))                                                                                                  |Value: 10 does not meet the constraint requirement!|Failure          |\n+-------------------+-----------+------------+----------------------------------------------------------------------------------------------------------------------------+---------------------------------------------------+-----------------+\n\n"
     ]
    }
   ],
   "source": [
    "report_path = f\"dbfs:/FileStore/deequ_report_{unique_id}\"\n",
    "report_df = spark.read.json(report_path)\n",
    "report_df.show(truncate=False)\n",
    "report_df.write.mode(\"overwrite\").saveAsTable(\"deequ_report_results\")"
   ]
  },
  {
   "cell_type": "code",
   "execution_count": 0,
   "metadata": {
    "application/vnd.databricks.v1+cell": {
     "cellMetadata": {
      "byteLimit": 2048000,
      "rowLimit": 10000
     },
     "inputWidgets": {},
     "nuid": "aa8b7f95-395e-4f13-a987-50ec5832b6dc",
     "showTitle": false,
     "tableResultSettingsMap": {},
     "title": ""
    }
   },
   "outputs": [
    {
     "output_type": "display_data",
     "data": {
      "text/html": [
       "<style scoped>\n",
       "  .table-result-container {\n",
       "    max-height: 300px;\n",
       "    overflow: auto;\n",
       "  }\n",
       "  table, th, td {\n",
       "    border: 1px solid black;\n",
       "    border-collapse: collapse;\n",
       "  }\n",
       "  th, td {\n",
       "    padding: 5px;\n",
       "  }\n",
       "  th {\n",
       "    text-align: left;\n",
       "  }\n",
       "</style><div class='table-result-container'><table class='table-result'><thead style='background-color: white'><tr><th>path</th><th>name</th><th>size</th><th>modificationTime</th></tr></thead><tbody><tr><td>dbfs:/FileStore/deequ_report_0d476116-0dbd-497b-bd68-a6b18b3c13fb/</td><td>deequ_report_0d476116-0dbd-497b-bd68-a6b18b3c13fb/</td><td>0</td><td>1755070222000</td></tr><tr><td>dbfs:/FileStore/deequ_report_1a016e02-b673-44fd-9361-3c48c38e1199/</td><td>deequ_report_1a016e02-b673-44fd-9361-3c48c38e1199/</td><td>0</td><td>1755071856000</td></tr><tr><td>dbfs:/FileStore/deequ_report_412491f1-53e6-4cfd-80cf-a8a2c80e8011/</td><td>deequ_report_412491f1-53e6-4cfd-80cf-a8a2c80e8011/</td><td>0</td><td>1755071878000</td></tr><tr><td>dbfs:/FileStore/deequ_report_54499761-4875-445c-8011-98fa26ff3f20/</td><td>deequ_report_54499761-4875-445c-8011-98fa26ff3f20/</td><td>0</td><td>1755070267000</td></tr><tr><td>dbfs:/FileStore/deequ_report_64cef1ff-a432-4292-a778-6ac7e42ce487/</td><td>deequ_report_64cef1ff-a432-4292-a778-6ac7e42ce487/</td><td>0</td><td>1755071266000</td></tr><tr><td>dbfs:/FileStore/deequ_report_efa5e9fa-2599-4a3a-9d6f-f84fb95ef791/</td><td>deequ_report_efa5e9fa-2599-4a3a-9d6f-f84fb95ef791/</td><td>0</td><td>1755070234000</td></tr><tr><td>dbfs:/FileStore/deequ_report_f311ea48-a0d4-44f6-b611-2367262ac880/</td><td>deequ_report_f311ea48-a0d4-44f6-b611-2367262ac880/</td><td>0</td><td>1755071354000</td></tr><tr><td>dbfs:/FileStore/shared_uploads/</td><td>shared_uploads/</td><td>0</td><td>1755067723000</td></tr></tbody></table></div>"
      ]
     },
     "metadata": {
      "application/vnd.databricks.v1+output": {
       "addedWidgets": {},
       "aggData": [],
       "aggError": "",
       "aggOverflow": false,
       "aggSchema": [],
       "aggSeriesLimitReached": false,
       "aggType": "",
       "arguments": {},
       "columnCustomDisplayInfos": {},
       "data": [
        [
         "dbfs:/FileStore/deequ_report_0d476116-0dbd-497b-bd68-a6b18b3c13fb/",
         "deequ_report_0d476116-0dbd-497b-bd68-a6b18b3c13fb/",
         0,
         1755070222000
        ],
        [
         "dbfs:/FileStore/deequ_report_1a016e02-b673-44fd-9361-3c48c38e1199/",
         "deequ_report_1a016e02-b673-44fd-9361-3c48c38e1199/",
         0,
         1755071856000
        ],
        [
         "dbfs:/FileStore/deequ_report_412491f1-53e6-4cfd-80cf-a8a2c80e8011/",
         "deequ_report_412491f1-53e6-4cfd-80cf-a8a2c80e8011/",
         0,
         1755071878000
        ],
        [
         "dbfs:/FileStore/deequ_report_54499761-4875-445c-8011-98fa26ff3f20/",
         "deequ_report_54499761-4875-445c-8011-98fa26ff3f20/",
         0,
         1755070267000
        ],
        [
         "dbfs:/FileStore/deequ_report_64cef1ff-a432-4292-a778-6ac7e42ce487/",
         "deequ_report_64cef1ff-a432-4292-a778-6ac7e42ce487/",
         0,
         1755071266000
        ],
        [
         "dbfs:/FileStore/deequ_report_efa5e9fa-2599-4a3a-9d6f-f84fb95ef791/",
         "deequ_report_efa5e9fa-2599-4a3a-9d6f-f84fb95ef791/",
         0,
         1755070234000
        ],
        [
         "dbfs:/FileStore/deequ_report_f311ea48-a0d4-44f6-b611-2367262ac880/",
         "deequ_report_f311ea48-a0d4-44f6-b611-2367262ac880/",
         0,
         1755071354000
        ],
        [
         "dbfs:/FileStore/shared_uploads/",
         "shared_uploads/",
         0,
         1755067723000
        ]
       ],
       "datasetInfos": [],
       "dbfsResultPath": null,
       "isJsonSchema": true,
       "metadata": {
        "isDbfsCommandResult": false
       },
       "overflow": false,
       "plotOptions": {
        "customPlotOptions": {},
        "displayType": "table",
        "pivotAggregation": null,
        "pivotColumns": null,
        "xColumns": null,
        "yColumns": null
       },
       "removedWidgets": [],
       "schema": [
        {
         "metadata": "{}",
         "name": "path",
         "type": "\"string\""
        },
        {
         "metadata": "{}",
         "name": "name",
         "type": "\"string\""
        },
        {
         "metadata": "{}",
         "name": "size",
         "type": "\"long\""
        },
        {
         "metadata": "{}",
         "name": "modificationTime",
         "type": "\"long\""
        }
       ],
       "type": "table"
      }
     },
     "output_type": "display_data"
    }
   ],
   "source": [
    "%fs ls dbfs:/FileStore/"
   ]
  }
 ],
 "metadata": {
  "application/vnd.databricks.v1+notebook": {
   "computePreferences": null,
   "dashboards": [],
   "environmentMetadata": {
    "base_environment": "",
    "environment_version": "2"
   },
   "inputWidgetPreferences": null,
   "language": "python",
   "notebookMetadata": {
    "mostRecentlyExecutedCommandWithImplicitDF": {
     "commandId": 5988121888658394,
     "dataframes": [
      "_sqldf"
     ]
    },
    "pythonIndentUnit": 4
   },
   "notebookName": "day2_casestudy",
   "widgets": {}
  },
  "language_info": {
   "name": "python"
  }
 },
 "nbformat": 4,
 "nbformat_minor": 0
}